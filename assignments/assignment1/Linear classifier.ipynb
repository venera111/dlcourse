{
 "cells": [
  {
   "cell_type": "markdown",
   "metadata": {},
   "source": [
    "# Задание 1.2 - Линейный классификатор (Linear classifier)\n",
    "\n",
    "В этом задании мы реализуем другую модель машинного обучения - линейный классификатор. Линейный классификатор подбирает для каждого класса веса, на которые нужно умножить значение каждого признака и потом сложить вместе.\n",
    "Тот класс, у которого эта сумма больше, и является предсказанием модели.\n",
    "\n",
    "В этом задании вы:\n",
    "- потренируетесь считать градиенты различных многомерных функций\n",
    "- реализуете подсчет градиентов через линейную модель и функцию потерь softmax\n",
    "- реализуете процесс тренировки линейного классификатора\n",
    "- подберете параметры тренировки на практике\n",
    "\n",
    "На всякий случай, еще раз ссылка на туториал по numpy:  \n",
    "http://cs231n.github.io/python-numpy-tutorial/"
   ]
  },
  {
   "cell_type": "code",
   "execution_count": 1,
   "metadata": {},
   "outputs": [],
   "source": [
    "import numpy as np\n",
    "import matplotlib.pyplot as plt\n",
    "\n",
    "%matplotlib inline\n",
    "\n",
    "%load_ext autoreload\n",
    "%autoreload 2"
   ]
  },
  {
   "cell_type": "code",
   "execution_count": 2,
   "metadata": {},
   "outputs": [],
   "source": [
    "from dataset import load_svhn, random_split_train_val\n",
    "from gradient_check import check_gradient\n",
    "from metrics import multiclass_accuracy\n",
    "import linear_classifer"
   ]
  },
  {
   "cell_type": "markdown",
   "metadata": {},
   "source": [
    "# Как всегда, первым делом загружаем данные\n",
    "\n",
    "Мы будем использовать все тот же SVHN."
   ]
  },
  {
   "cell_type": "code",
   "execution_count": 3,
   "metadata": {},
   "outputs": [
    {
     "name": "stdout",
     "output_type": "stream",
     "text": [
      "type test_X: float32 \n",
      "\n",
      "[[[[ 97. 103.  93.]\n",
      "   [ 96. 102.  93.]\n",
      "   [ 96. 101.  91.]\n",
      "   ...\n",
      "   [ 83.  91.  77.]\n",
      "   [ 83.  91.  78.]\n",
      "   [ 82.  90.  77.]]\n",
      "\n",
      "  [[100. 106.  95.]\n",
      "   [101. 106.  95.]\n",
      "   [101. 104.  95.]\n",
      "   ...\n",
      "   [ 87.  93.  80.]\n",
      "   [ 85.  91.  80.]\n",
      "   [ 85.  91.  79.]]\n",
      "\n",
      "  [[102. 107.  98.]\n",
      "   [103. 107.  97.]\n",
      "   [104. 106.  97.]\n",
      "   ...\n",
      "   [ 91.  96.  84.]\n",
      "   [ 87.  92.  80.]\n",
      "   [ 87.  92.  80.]]\n",
      "\n",
      "  ...\n",
      "\n",
      "  [[ 99. 110. 111.]\n",
      "   [100. 111. 112.]\n",
      "   [101. 111. 113.]\n",
      "   ...\n",
      "   [ 72.  76.  70.]\n",
      "   [ 65.  68.  63.]\n",
      "   [ 64.  66.  61.]]\n",
      "\n",
      "  [[ 99. 110. 112.]\n",
      "   [100. 111. 113.]\n",
      "   [101. 111. 112.]\n",
      "   ...\n",
      "   [ 79.  85.  79.]\n",
      "   [ 71.  76.  70.]\n",
      "   [ 70.  74.  68.]]\n",
      "\n",
      "  [[100. 111. 113.]\n",
      "   [100. 111. 113.]\n",
      "   [ 99. 111. 112.]\n",
      "   ...\n",
      "   [ 87.  94.  87.]\n",
      "   [ 78.  85.  78.]\n",
      "   [ 76.  82.  76.]]]\n",
      "\n",
      "\n",
      " [[[ 90.  84.  84.]\n",
      "   [ 90.  85.  82.]\n",
      "   [ 90.  85.  81.]\n",
      "   ...\n",
      "   [103.  96.  88.]\n",
      "   [113. 106.  98.]\n",
      "   [121. 114. 104.]]\n",
      "\n",
      "  [[ 90.  85.  82.]\n",
      "   [ 90.  85.  81.]\n",
      "   [ 90.  85.  81.]\n",
      "   ...\n",
      "   [106.  99.  93.]\n",
      "   [115. 108. 100.]\n",
      "   [121. 114. 104.]]\n",
      "\n",
      "  [[ 92.  84.  82.]\n",
      "   [ 92.  84.  81.]\n",
      "   [ 90.  85.  81.]\n",
      "   ...\n",
      "   [107. 102.  96.]\n",
      "   [116. 112. 103.]\n",
      "   [122. 115. 105.]]\n",
      "\n",
      "  ...\n",
      "\n",
      "  [[ 83.  79.  76.]\n",
      "   [ 83.  79.  76.]\n",
      "   [ 83.  79.  76.]\n",
      "   ...\n",
      "   [130. 128. 115.]\n",
      "   [130. 128. 115.]\n",
      "   [130. 126. 115.]]\n",
      "\n",
      "  [[ 83.  78.  75.]\n",
      "   [ 83.  79.  76.]\n",
      "   [ 83.  79.  76.]\n",
      "   ...\n",
      "   [132. 128. 117.]\n",
      "   [132. 128. 117.]\n",
      "   [133. 126. 116.]]\n",
      "\n",
      "  [[ 84.  79.  76.]\n",
      "   [ 83.  79.  76.]\n",
      "   [ 83.  80.  75.]\n",
      "   ...\n",
      "   [131. 127. 116.]\n",
      "   [132. 128. 117.]\n",
      "   [133. 126. 116.]]]\n",
      "\n",
      "\n",
      " [[[145. 138. 128.]\n",
      "   [140. 134. 123.]\n",
      "   [129. 126. 115.]\n",
      "   ...\n",
      "   [137. 130. 112.]\n",
      "   [137. 130. 113.]\n",
      "   [137. 130. 114.]]\n",
      "\n",
      "  [[146. 139. 128.]\n",
      "   [142. 135. 124.]\n",
      "   [133. 128. 117.]\n",
      "   ...\n",
      "   [137. 130. 112.]\n",
      "   [138. 131. 113.]\n",
      "   [138. 131. 114.]]\n",
      "\n",
      "  [[147. 141. 129.]\n",
      "   [144. 138. 126.]\n",
      "   [138. 132. 120.]\n",
      "   ...\n",
      "   [138. 131. 112.]\n",
      "   [139. 133. 114.]\n",
      "   [139. 134. 115.]]\n",
      "\n",
      "  ...\n",
      "\n",
      "  [[140. 137. 121.]\n",
      "   [142. 139. 125.]\n",
      "   [147. 143. 130.]\n",
      "   ...\n",
      "   [154. 152. 133.]\n",
      "   [156. 154. 136.]\n",
      "   [156. 154. 137.]]\n",
      "\n",
      "  [[133. 129. 113.]\n",
      "   [134. 131. 116.]\n",
      "   [138. 134. 121.]\n",
      "   ...\n",
      "   [149. 147. 131.]\n",
      "   [151. 149. 134.]\n",
      "   [151. 149. 135.]]\n",
      "\n",
      "  [[128. 125. 110.]\n",
      "   [130. 126. 112.]\n",
      "   [133. 129. 117.]\n",
      "   ...\n",
      "   [146. 145. 130.]\n",
      "   [147. 147. 133.]\n",
      "   [148. 147. 134.]]]\n",
      "\n",
      "\n",
      " ...\n",
      "\n",
      "\n",
      " [[[102.  89.  73.]\n",
      "   [ 99.  85.  71.]\n",
      "   [ 96.  82.  70.]\n",
      "   ...\n",
      "   [116. 104.  91.]\n",
      "   [116. 104.  90.]\n",
      "   [116. 104.  90.]]\n",
      "\n",
      "  [[103.  90.  73.]\n",
      "   [100.  86.  72.]\n",
      "   [ 97.  83.  71.]\n",
      "   ...\n",
      "   [122. 110.  98.]\n",
      "   [123. 111.  98.]\n",
      "   [123. 111.  97.]]\n",
      "\n",
      "  [[105.  91.  77.]\n",
      "   [103.  89.  76.]\n",
      "   [100.  86.  75.]\n",
      "   ...\n",
      "   [132. 120. 108.]\n",
      "   [134. 122. 109.]\n",
      "   [135. 123. 109.]]\n",
      "\n",
      "  ...\n",
      "\n",
      "  [[103.  81.  71.]\n",
      "   [102.  81.  72.]\n",
      "   [ 99.  81.  73.]\n",
      "   ...\n",
      "   [133. 124. 111.]\n",
      "   [133. 122. 109.]\n",
      "   [133. 121. 107.]]\n",
      "\n",
      "  [[ 99.  79.  68.]\n",
      "   [ 97.  77.  67.]\n",
      "   [ 95.  76.  68.]\n",
      "   ...\n",
      "   [111. 101.  91.]\n",
      "   [109.  98.  87.]\n",
      "   [108.  96.  85.]]\n",
      "\n",
      "  [[ 94.  74.  63.]\n",
      "   [ 90.  70.  61.]\n",
      "   [ 88.  69.  61.]\n",
      "   ...\n",
      "   [ 94.  85.  77.]\n",
      "   [ 93.  82.  73.]\n",
      "   [ 92.  79.  71.]]]\n",
      "\n",
      "\n",
      " [[[193. 197. 208.]\n",
      "   [193. 198. 210.]\n",
      "   [192. 198. 212.]\n",
      "   ...\n",
      "   [174. 179. 183.]\n",
      "   [172. 177. 181.]\n",
      "   [172. 177. 180.]]\n",
      "\n",
      "  [[192. 196. 207.]\n",
      "   [188. 193. 206.]\n",
      "   [184. 191. 206.]\n",
      "   ...\n",
      "   [163. 166. 171.]\n",
      "   [158. 163. 168.]\n",
      "   [156. 162. 167.]]\n",
      "\n",
      "  [[186. 190. 202.]\n",
      "   [178. 183. 199.]\n",
      "   [173. 179. 196.]\n",
      "   ...\n",
      "   [148. 150. 155.]\n",
      "   [142. 145. 151.]\n",
      "   [139. 143. 150.]]\n",
      "\n",
      "  ...\n",
      "\n",
      "  [[176. 183. 186.]\n",
      "   [177. 186. 189.]\n",
      "   [178. 188. 191.]\n",
      "   ...\n",
      "   [191. 202. 198.]\n",
      "   [189. 199. 196.]\n",
      "   [188. 197. 196.]]\n",
      "\n",
      "  [[186. 195. 194.]\n",
      "   [185. 195. 195.]\n",
      "   [183. 193. 194.]\n",
      "   ...\n",
      "   [191. 201. 198.]\n",
      "   [190. 200. 198.]\n",
      "   [190. 200. 199.]]\n",
      "\n",
      "  [[190. 199. 195.]\n",
      "   [188. 197. 195.]\n",
      "   [184. 194. 193.]\n",
      "   ...\n",
      "   [192. 201. 200.]\n",
      "   [191. 201. 200.]\n",
      "   [191. 201. 200.]]]\n",
      "\n",
      "\n",
      " [[[215. 231. 231.]\n",
      "   [212. 226. 227.]\n",
      "   [210. 222. 225.]\n",
      "   ...\n",
      "   [122. 140. 146.]\n",
      "   [157. 174. 177.]\n",
      "   [186. 202. 202.]]\n",
      "\n",
      "  [[210. 227. 229.]\n",
      "   [210. 225. 228.]\n",
      "   [208. 220. 225.]\n",
      "   ...\n",
      "   [140. 157. 165.]\n",
      "   [171. 188. 194.]\n",
      "   [193. 208. 211.]]\n",
      "\n",
      "  [[206. 225. 228.]\n",
      "   [202. 218. 222.]\n",
      "   [198. 210. 215.]\n",
      "   ...\n",
      "   [147. 162. 171.]\n",
      "   [167. 182. 189.]\n",
      "   [181. 197. 200.]]\n",
      "\n",
      "  ...\n",
      "\n",
      "  [[169. 184. 182.]\n",
      "   [179. 194. 192.]\n",
      "   [188. 201. 200.]\n",
      "   ...\n",
      "   [162. 180. 184.]\n",
      "   [151. 169. 173.]\n",
      "   [131. 150. 155.]]\n",
      "\n",
      "  [[153. 167. 167.]\n",
      "   [159. 173. 174.]\n",
      "   [166. 178. 180.]\n",
      "   ...\n",
      "   [150. 169. 173.]\n",
      "   [150. 169. 173.]\n",
      "   [140. 159. 163.]]\n",
      "\n",
      "  [[145. 159. 160.]\n",
      "   [139. 153. 154.]\n",
      "   [139. 151. 154.]\n",
      "   ...\n",
      "   [150. 171. 171.]\n",
      "   [154. 174. 175.]\n",
      "   [147. 167. 168.]]]]\n",
      "type test_X after astype(float): float64 \n",
      "\n",
      "[[-0.06622431 -0.03960588 -0.09044392 ... -0.12233843 -0.16171961\n",
      "   1.        ]\n",
      " [-0.09367529 -0.11411569 -0.12573804 ...  0.05021059 -0.00485686\n",
      "   1.        ]\n",
      " [ 0.12201098  0.09764902  0.04681098 ...  0.13256353  0.06573137\n",
      "   1.        ]\n",
      " ...\n",
      " [-0.04661647 -0.09450784 -0.16887529 ... -0.13410314 -0.18132745\n",
      "   1.        ]\n",
      " [ 0.31024627  0.32902157  0.36053647 ...  0.34432824  0.3245549\n",
      "   1.        ]\n",
      " [ 0.39652078  0.4623549   0.45073255 ...  0.2109949   0.19906471\n",
      "   1.        ]]\n"
     ]
    }
   ],
   "source": [
    "def prepare_for_linear_classifier(train_X, test_X):\n",
    "    train_flat = train_X.reshape(train_X.shape[0], -1).astype(float) / 255.0 # pixel normalize to the range 0-1\n",
    "    test_flat = test_X.reshape(test_X.shape[0], -1).astype(float) / 255.0\n",
    "    mean_image = np.mean(train_flat, axis=0)\n",
    "    \n",
    "    # Subtract mean https://stats.stackexchange.com/questions/211436/why-normalize-images-by-subtracting-datasets-image-mean-instead-of-the-current\n",
    "    # https://machinelearningmastery.com/how-to-manually-scale-image-pixel-data-for-deep-learning/\n",
    "    train_flat -= mean_image # centering\n",
    "    test_flat -= mean_image\n",
    "\n",
    "    # Add another channel with ones as a bias term\n",
    "    train_flat_with_ones = np.hstack([train_flat, np.ones((train_X.shape[0], 1))])\n",
    "    test_flat_with_ones = np.hstack([test_flat, np.ones((test_X.shape[0], 1))])    \n",
    "    return train_flat_with_ones, test_flat_with_ones\n",
    "\n",
    "train_X, train_y, test_X, test_y = load_svhn(\"data\", max_train=10000, max_test=1000)\n",
    "print(\"type test_X:\", test_X.dtype, '\\n')\n",
    "print(test_X)\n",
    "train_X, test_X = prepare_for_linear_classifier(train_X, test_X)\n",
    "print(\"type test_X after astype(float):\", test_X.dtype, '\\n')\n",
    "print(test_X)\n",
    "# Split train into train and val\n",
    "train_X, train_y, val_X, val_y = random_split_train_val(train_X, train_y, num_val = 1000)\n"
   ]
  },
  {
   "cell_type": "code",
   "execution_count": 4,
   "metadata": {},
   "outputs": [
    {
     "name": "stdout",
     "output_type": "stream",
     "text": [
      "min: -0.48431568627450733\n",
      "mean: 0.01875625032701183\n",
      "max: 1.0\n"
     ]
    }
   ],
   "source": [
    "print(\"min:\", test_X.min())\n",
    "print(\"mean:\", test_X.mean())\n",
    "print(\"max:\", test_X.max())"
   ]
  },
  {
   "cell_type": "markdown",
   "metadata": {},
   "source": [
    "# Играемся с градиентами!\n",
    "\n",
    "В этом курсе мы будем писать много функций, которые вычисляют градиенты аналитическим методом.\n",
    "\n",
    "Все функции, в которых мы будем вычислять градиенты, будут написаны по одной и той же схеме.  \n",
    "Они будут получать на вход точку, где нужно вычислить значение и градиент функции, а на выходе будут выдавать кортеж (tuple) из двух значений - собственно значения функции в этой точке (всегда одно число) и аналитического значения градиента в той же точке (той же размерности, что и вход).\n",
    "```\n",
    "def f(x):\n",
    "    \"\"\"\n",
    "    Computes function and analytic gradient at x\n",
    "    \n",
    "    x: np array of float, input to the function\n",
    "    \n",
    "    Returns:\n",
    "    value: float, value of the function \n",
    "    grad: np array of float, same shape as x\n",
    "    \"\"\"\n",
    "    ...\n",
    "    \n",
    "    return value, grad\n",
    "```\n",
    "\n",
    "Необходимым инструментом во время реализации кода, вычисляющего градиенты, является функция его проверки. Эта функция вычисляет градиент численным методом и сверяет результат с градиентом, вычисленным аналитическим методом.\n",
    "\n",
    "Мы начнем с того, чтобы реализовать вычисление численного градиента (numeric gradient) в функции `check_gradient` в `gradient_check.py`. Эта функция будет принимать на вход функции формата, заданного выше, использовать значение `value` для вычисления численного градиента и сравнит его с аналитическим - они должны сходиться.\n",
    "\n",
    "Напишите часть функции, которая вычисляет градиент с помощью численной производной для каждой координаты. Для вычисления производной используйте так называемую two-point formula (https://en.wikipedia.org/wiki/Numerical_differentiation):\n",
    "\n",
    "![image](https://wikimedia.org/api/rest_v1/media/math/render/svg/22fc2c0a66c63560a349604f8b6b39221566236d)\n",
    "\n",
    "Все функции приведенные в следующей клетке должны проходить gradient check."
   ]
  },
  {
   "cell_type": "code",
   "execution_count": 5,
   "metadata": {
    "scrolled": true
   },
   "outputs": [
    {
     "name": "stdout",
     "output_type": "stream",
     "text": [
      "6.0 6.000000000039306\n",
      "Gradient check passed!\n",
      "1.0 0.9999999999621422\n",
      "1.0 0.9999999999621422\n",
      "Gradient check passed!\n",
      "1.0 0.9999999999621422\n",
      "1.0 0.9999999999621422\n",
      "1.0 0.9999999999621422\n",
      "1.0 0.9999999999621422\n",
      "Gradient check passed!\n"
     ]
    },
    {
     "data": {
      "text/plain": [
       "True"
      ]
     },
     "execution_count": 5,
     "metadata": {},
     "output_type": "execute_result"
    }
   ],
   "source": [
    "# TODO: Implement check_gradient function in gradient_check.py\n",
    "# All the functions below should pass the gradient check\n",
    "\n",
    "def square(x):\n",
    "    return float(x*x), 2*x\n",
    "\n",
    "check_gradient(square, np.array([3.0]))\n",
    "\n",
    "def array_sum(x):\n",
    "    assert x.shape == (2,), x.shape\n",
    "    return np.sum(x), np.ones_like(x)\n",
    "\n",
    "check_gradient(array_sum, np.array([3.0, 2.0]))\n",
    "\n",
    "def array_2d_sum(x):\n",
    "    assert x.shape == (2,2)\n",
    "    return np.sum(x), np.ones_like(x)\n",
    "\n",
    "check_gradient(array_2d_sum, np.array([[3.0, 2.0], [1.0, 0.0]]))"
   ]
  },
  {
   "cell_type": "markdown",
   "metadata": {},
   "source": [
    "## Начинаем писать свои функции, считающие аналитический градиент\n",
    "\n",
    "Теперь реализуем функцию softmax, которая получает на вход оценки для каждого класса и преобразует их в вероятности от 0 до 1:\n",
    "![image](https://wikimedia.org/api/rest_v1/media/math/render/svg/e348290cf48ddbb6e9a6ef4e39363568b67c09d3)\n",
    "\n",
    "**Важно:** Практический аспект вычисления этой функции заключается в том, что в ней учавствует вычисление экспоненты от потенциально очень больших чисел - это может привести к очень большим значениям в числителе и знаменателе за пределами диапазона float.\n",
    "\n",
    "К счастью, у этой проблемы есть простое решение -- перед вычислением softmax вычесть из всех оценок максимальное значение среди всех оценок:\n",
    "```\n",
    "predictions -= np.max(predictions)\n",
    "```\n",
    "(подробнее здесь - http://cs231n.github.io/linear-classify/#softmax, секция `Practical issues: Numeric stability`)"
   ]
  },
  {
   "cell_type": "code",
   "execution_count": 6,
   "metadata": {},
   "outputs": [],
   "source": [
    "# TODO Implement softmax and cross-entropy for single sample\n",
    "probs = linear_classifer.softmax(np.array([-10, 0, 10]))\n",
    "\n",
    "# Make sure it works for big numbers too!\n",
    "probs = linear_classifer.softmax(np.array([1000, 0, 0])) # [1. 0. 0.]\n",
    "assert np.isclose(probs[0], 1.0)"
   ]
  },
  {
   "cell_type": "markdown",
   "metadata": {},
   "source": [
    "Кроме этого, мы реализуем cross-entropy loss, которую мы будем использовать как функцию ошибки (error function).\n",
    "В общем виде cross-entropy определена следующим образом:\n",
    "![image](https://wikimedia.org/api/rest_v1/media/math/render/svg/0cb6da032ab424eefdca0884cd4113fe578f4293)\n",
    "\n",
    "где x - все классы, p(x) - истинная вероятность принадлежности сэмпла классу x, а q(x) - вероятность принадлежности классу x, предсказанная моделью.  \n",
    "В нашем случае сэмпл принадлежит только одному классу, индекс которого передается функции. Для него p(x) равна 1, а для остальных классов - 0. \n",
    "\n",
    "Это позволяет реализовать функцию проще!"
   ]
  },
  {
   "cell_type": "code",
   "execution_count": 7,
   "metadata": {},
   "outputs": [
    {
     "data": {
      "text/plain": [
       "5.006760443547122"
      ]
     },
     "execution_count": 7,
     "metadata": {},
     "output_type": "execute_result"
    }
   ],
   "source": [
    "probs = linear_classifer.softmax(np.array([-5, 0, 5]))\n",
    "linear_classifer.cross_entropy_loss(probs, 1)"
   ]
  },
  {
   "cell_type": "markdown",
   "metadata": {},
   "source": [
    "После того как мы реализовали сами функции, мы можем реализовать градиент.\n",
    "\n",
    "Оказывается, что вычисление градиента становится гораздо проще, если объединить эти функции в одну, которая сначала вычисляет вероятности через softmax, а потом использует их для вычисления функции ошибки через cross-entropy loss.\n",
    "\n",
    "Эта функция `softmax_with_cross_entropy` будет возвращает и значение ошибки, и градиент по входным параметрам. Мы проверим корректность реализации с помощью `check_gradient`."
   ]
  },
  {
   "cell_type": "code",
   "execution_count": 8,
   "metadata": {},
   "outputs": [
    {
     "name": "stdout",
     "output_type": "stream",
     "text": [
      "0.5761168847658291 0.5761168847651099\n",
      "-0.7880584423829146 -0.7880584423691771\n",
      "0.21194155761708544 0.2119415576151695\n",
      "Gradient check passed!\n"
     ]
    },
    {
     "data": {
      "text/plain": [
       "True"
      ]
     },
     "execution_count": 8,
     "metadata": {},
     "output_type": "execute_result"
    }
   ],
   "source": [
    "# TODO Implement combined function or softmax and cross entropy and produces gradient\n",
    "loss, grad = linear_classifer.softmax_with_cross_entropy(np.array([1, 0, 0]), 1)\n",
    "check_gradient(lambda x: linear_classifer.softmax_with_cross_entropy(x, 1), np.array([1, 0, 0], float))"
   ]
  },
  {
   "cell_type": "markdown",
   "metadata": {},
   "source": [
    "В качестве метода тренировки мы будем использовать стохастический градиентный спуск (stochastic gradient descent или SGD), который работает с батчами сэмплов. \n",
    "\n",
    "Поэтому все наши функции будут получать не один пример, а батч, то есть входом будет не вектор из `num_classes` оценок, а матрица размерности `batch_size, num_classes`. Индекс примера в батче всегда будет первым измерением.\n",
    "\n",
    "Следующий шаг - переписать наши функции так, чтобы они поддерживали батчи.\n",
    "\n",
    "Финальное значение функции ошибки должно остаться числом, и оно равно среднему значению ошибки среди всех примеров в батче."
   ]
  },
  {
   "cell_type": "code",
   "execution_count": 9,
   "metadata": {
    "scrolled": false
   },
   "outputs": [
    {
     "name": "stdout",
     "output_type": "stream",
     "text": [
      "0.20603190919001857 0.20603190920009948\n",
      "0.5600527948339517 0.560052794829069\n",
      "-0.9721166132139888 -0.9721166132292679\n",
      "0.20603190919001857 0.20603190920009948\n",
      "Gradient check passed!\n",
      "0.2271508539361916 0.2271508539486433\n",
      "0.011309175094739847 0.011309175063090036\n",
      "0.011309175094739847 0.011309175063090036\n",
      "-0.24976920412567125 -0.24976920411923229\n",
      "0.03641059085767864 0.03641059085346399\n",
      "0.0989742474918849 0.0989742474866162\n",
      "0.0989742474918849 0.0989742474866162\n",
      "-0.23435908584144846 -0.23435908584890083\n",
      "0.05072100718053443 0.050721007172072057\n",
      "0.1378739921399875 0.13787399215647866\n",
      "-0.32646899146050945 -0.32646899146282493\n",
      "0.1378739921399875 0.13787399215647866\n",
      "Gradient check passed!\n"
     ]
    }
   ],
   "source": [
    "# TODO Extend combined function so it can receive a 2d array with batch of samples\n",
    "np.random.seed(42)\n",
    "# Test batch_size = 1\n",
    "num_classes = 4\n",
    "batch_size = 1\n",
    "predictions = np.random.randint(-1, 3, size=(batch_size, num_classes)).astype(float)\n",
    "target_index = np.random.randint(0, num_classes, size=(batch_size, 1)).astype(int)\n",
    "check_gradient(lambda x: linear_classifer.softmax_with_cross_entropy(x, target_index), predictions)\n",
    "\n",
    "# Test batch_size = 3\n",
    "num_classes = 4\n",
    "batch_size = 3\n",
    "predictions = np.random.randint(-1, 3, size=(batch_size, num_classes)).astype(float)\n",
    "target_index = np.random.randint(0, num_classes, size=(batch_size, 1)).astype(int)\n",
    "check_gradient(lambda x: linear_classifer.softmax_with_cross_entropy(x, target_index), predictions)\n",
    "\n",
    "# Make sure maximum subtraction for numberic stability is done separately for every sample in the batch\n",
    "probs = linear_classifer.softmax(np.array([[20,0,0], [1000, 0, 0]]))\n",
    "assert np.all(np.isclose(probs[:, 0], 1.0))"
   ]
  },
  {
   "cell_type": "markdown",
   "metadata": {},
   "source": [
    "### Наконец, реализуем сам линейный классификатор!\n",
    "\n",
    "softmax и cross-entropy получают на вход оценки, которые выдает линейный классификатор.\n",
    "\n",
    "Он делает это очень просто: для каждого класса есть набор весов, на которые надо умножить пиксели картинки и сложить. Получившееся число и является оценкой класса, идущей на вход softmax.\n",
    "\n",
    "Таким образом, линейный классификатор можно представить как умножение вектора с пикселями на матрицу W размера `num_features, num_classes`. Такой подход легко расширяется на случай батча векторов с пикселями X размера `batch_size, num_features`:\n",
    "\n",
    "`predictions = X * W`, где `*` - матричное умножение.\n",
    "\n",
    "Реализуйте функцию подсчета линейного классификатора и градиентов по весам `linear_softmax` в файле `linear_classifer.py`"
   ]
  },
  {
   "cell_type": "code",
   "execution_count": null,
   "metadata": {},
   "outputs": [],
   "source": [
    "# TODO Implement linear_softmax function that uses softmax with cross-entropy for linear classifier\n",
    "batch_size = 2\n",
    "num_classes = 2\n",
    "num_features = 3\n",
    "np.random.seed(42)\n",
    "W = np.random.randint(-1, 3, size=(num_features, num_classes)).astype(float)\n",
    "X = np.random.randint(-1, 3, size=(batch_size, num_features)).astype(float)\n",
    "target_index = np.ones(batch_size, dtype=int)\n",
    "loss, dW = linear_classifer.linear_softmax(X, W, target_index)\n",
    "check_gradient(lambda w: linear_classifer.linear_softmax(X, w, target_index), W)\n",
    "print(\"loss:\", loss)"
   ]
  },
  {
   "cell_type": "markdown",
   "metadata": {},
   "source": [
    "### И теперь регуляризация\n",
    "\n",
    "Мы будем использовать L2 regularization для весов как часть общей функции ошибки.\n",
    "\n",
    "Напомним, L2 regularization определяется как\n",
    "\n",
    "l2_reg_loss = regularization_strength * sum<sub>ij</sub> W[i, j]<sup>2</sup>\n",
    "\n",
    "Реализуйте функцию для его вычисления и вычисления соотвествующих градиентов."
   ]
  },
  {
   "cell_type": "code",
   "execution_count": null,
   "metadata": {},
   "outputs": [],
   "source": [
    "# TODO Implement l2_regularization function that implements loss for L2 regularization\n",
    "linear_classifer.l2_regularization(W, 0.01)\n",
    "check_gradient(lambda w: linear_classifer.l2_regularization(w, 0.01), W)"
   ]
  },
  {
   "cell_type": "markdown",
   "metadata": {},
   "source": [
    "# Тренировка!"
   ]
  },
  {
   "cell_type": "markdown",
   "metadata": {},
   "source": [
    "Градиенты в порядке, реализуем процесс тренировки!"
   ]
  },
  {
   "cell_type": "code",
   "execution_count": null,
   "metadata": {
    "scrolled": true
   },
   "outputs": [],
   "source": [
    "# TODO: Implement LinearSoftmaxClassifier.fit function\n",
    "classifier = linear_classifer.LinearSoftmaxClassifier()\n",
    "loss_history = classifier.fit(train_X, train_y, epochs=10, learning_rate=1e-3, batch_size=300, reg=1e1)"
   ]
  },
  {
   "cell_type": "code",
   "execution_count": null,
   "metadata": {},
   "outputs": [],
   "source": [
    "# let's look at the loss history!\n",
    "plt.plot(loss_history);"
   ]
  },
  {
   "cell_type": "code",
   "execution_count": null,
   "metadata": {
    "scrolled": true
   },
   "outputs": [],
   "source": [
    "# Let's check how it performs on validation set\n",
    "pred = classifier.predict(val_X)\n",
    "accuracy = multiclass_accuracy(pred, val_y)\n",
    "print(\"Accuracy: \", accuracy)\n",
    "\n",
    "# Now, let's train more and see if it performs better\n",
    "classifier.fit(train_X, train_y, epochs=100, learning_rate=1e-3, batch_size=300, reg=1e1)\n",
    "pred = classifier.predict(val_X)\n",
    "accuracy = multiclass_accuracy(pred, val_y)\n",
    "print(\"Accuracy after training for 100 epochs: \", accuracy)"
   ]
  },
  {
   "cell_type": "markdown",
   "metadata": {},
   "source": [
    "### Как и раньше, используем кросс-валидацию для подбора гиперпараметтов.\n",
    "\n",
    "В этот раз, чтобы тренировка занимала разумное время, мы будем использовать только одно разделение на тренировочные (training) и проверочные (validation) данные.\n",
    "\n",
    "Теперь нам нужно подобрать не один, а два гиперпараметра! Не ограничивайте себя изначальными значениями в коде.  \n",
    "Добейтесь точности более чем **20%** на проверочных данных (validation data)."
   ]
  },
  {
   "cell_type": "code",
   "execution_count": null,
   "metadata": {
    "scrolled": true
   },
   "outputs": [],
   "source": [
    "num_epochs = 200\n",
    "batch_size = 300\n",
    "\n",
    "learning_rates = [1e-3, 1e-4, 1e-5]\n",
    "reg_strengths = [1e-4, 1e-5, 1e-6]\n",
    "\n",
    "best_classifier = None\n",
    "best_val_accuracy = None\n",
    "\n",
    "# TODO use validation set to find the best hyperparameters\n",
    "# hint: for best results, you might need to try more values for learning rate and regularization strength \n",
    "# than provided initially\n",
    "\n",
    "for lr in learning_rates:\n",
    "    for rs in reg_strengths:\n",
    "        loss_history = classifier.fit(train_X, train_y, epochs=num_epochs, learning_rate=lr, batch_size=batch_size, reg=rs)\n",
    "        pred = classifier.predict(val_X)\n",
    "        accuracy = multiclass_accuracy(pred, val_y)\n",
    "        if best_val_accuracy is None or best_val_accuracy < accuracy:\n",
    "            best_classifier = classifier\n",
    "            best_val_accuracy = accuracy\n",
    "\n",
    "print('best validation accuracy achieved: %f' % best_val_accuracy)"
   ]
  },
  {
   "cell_type": "markdown",
   "metadata": {},
   "source": [
    "# Какой же точности мы добились на тестовых данных?"
   ]
  },
  {
   "cell_type": "code",
   "execution_count": null,
   "metadata": {},
   "outputs": [],
   "source": [
    "test_pred = best_classifier.predict(test_X)\n",
    "test_accuracy = multiclass_accuracy(test_pred, test_y)\n",
    "print('Linear softmax classifier test set accuracy: %f' % (test_accuracy, ))"
   ]
  },
  {
   "cell_type": "code",
   "execution_count": null,
   "metadata": {},
   "outputs": [],
   "source": []
  }
 ],
 "metadata": {
  "kernelspec": {
   "display_name": "dlcourse",
   "language": "python",
   "name": "dlcourse"
  },
  "language_info": {
   "codemirror_mode": {
    "name": "ipython",
    "version": 3
   },
   "file_extension": ".py",
   "mimetype": "text/x-python",
   "name": "python",
   "nbconvert_exporter": "python",
   "pygments_lexer": "ipython3",
   "version": "3.9.7"
  }
 },
 "nbformat": 4,
 "nbformat_minor": 2
}
